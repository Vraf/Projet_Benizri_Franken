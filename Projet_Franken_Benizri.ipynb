{
 "cells": [
  {
   "cell_type": "markdown",
   "metadata": {},
   "source": [
    "## Introduction\n",
    "\n",
    "Un sujet important en mécanique des fluides est l'étude de la stabilité des écoulements. De manière générale, on se donne un champ de vitesse du fluide laminaire $\\vec{U}(\\vec{x})$ et on étudie son évolution lorsqu'on lui ajoute des \"petites\" perturbations. Si ces perturbations décroissent systématiquement au cours du temps, l'écoulement sera dit **stable**. Dans le cas contraire, l'écoulement pourrait être **instable** et se transformer en un écoulement turbulent.\n",
    "\n",
    "Par exemple, soit l'écoulement de Poiseuille à 2D. Il correspond au déplacement laminaire d'un fluide entre deux plaques parallèles:\n",
    "\n",
    "\n",
    "\n",
    "En choisissant les unités de manière appropriées, le profil de cet écoulement est donné par\n",
    "$$\\vec{U}(y)=(1-y^2)\\vec{1}_x.$$\n",
    "La vitesse est maximale au centre du canal et nulle sur les parois solides.\n",
    "\n",
    "## Perturbation de l'écoulement de base\n",
    "Ajoutons une perturbation à cet écoulement de base. La vitesse totale de l'écoulement s'écrit alors,\n",
    "\n",
    "$$\\vec{u}(x,y,t)=(1-y^2)\\vec{1}_x + \\vec{u'}(x,y,t)$$ \n",
    "où\n",
    "\\begin{equation*}\n",
    "    \\vec{u'}(x,y,t) = \n",
    "            \\begin{cases}\n",
    "               u'(x,y,t)           \\\\\n",
    "               v'(x,y,t)               \n",
    "            \\end{cases}\n",
    "\\end{equation*}\n",
    "\n",
    "est la perturbation. Comme nous faisons l'hypothèse que l'écoulement est incompressible, les deux composantes de la fluctuation ne sont pas indépendantes et sont reliées par,\n",
    "\n",
    "\\begin{align}\n",
    "\\frac{\\partial u'}{\\partial x}+\\frac{\\partial v'}{\\partial y}=0.\n",
    "\\end{align}\n",
    "\n",
    "Si le fluide considéré est un fluide commun comme l'air où l'eau, sa dynamique peut être décrite par les équations de Navier-Stokes. L'analyse de la stabilité de l'écoulement commence alors par la linéarisation de ces équations et il est possible de montrer que dans ce régime linéaire, la perturbation verticale du champ de vitesse obéït à l'équation d'Orr-Sommerfeld:\n",
    "\n",
    "\\begin{align}\n",
    "\\left(\\frac{\\partial}{\\partial t}+U(y)\\frac{\\partial}{\\partial x}\\right)\\nabla^2 v' - U''(y)\\frac{\\partial v}{\\partial x} - \\frac{1}{R}\\nabla^2 \\nabla^2 v' =0 \n",
    "\\end{align}\n",
    "\n",
    "avec comme conditions aux bords $v=\\partial v / \\partial y =0$ en $y=\\pm 1$ et où $\\nabla^2= \\partial^2 / \\partial^2 x^2+ \\partial / \\partial y^2$ et $R$ est le nombre de Reynolds de l'écoulement (paramêtre fixé).\n",
    "\n",
    "Le domaine étant infini dans la direction $x$, on peut toujours exprimer une perturbation comme une somme de modes périodiques monochromatiques (qui correspondent à une seule longueur d'onde). Si l'on se restreint à un seul mode, la perturbation $v'$ prend donc la forme d'un mode monochromatique dans la direction $x$:\n",
    "\n",
    "$$v'(x,y,t)=\\hat{v}'(y,t)e^{i\\alpha x}$$\n",
    "\n",
    "L'équation d'évolution pour $\\hat{v}'$ est alors:\n",
    "\n",
    "\\begin{align}\n",
    "\\frac{\\partial}{\\partial t}(D^2-\\alpha^2)\\hat{v}'&=\\left\\{-i\\alpha U(D^2-\\alpha^2)+i\\alpha U''+\\frac{1}{R}(D^2-\\alpha^2)^2\\right\\}\\hat{v}'\\\\\n",
    "&\\Leftrightarrow\\\\\n",
    "\\frac{\\partial}{\\partial t}\\hat{v}'&=(D^2-\\alpha^2)^{-1}\\left\\{-i\\alpha U(D^2-\\alpha^2)+i\\alpha U''+\\frac{1}{R}(D^2-\\alpha^2)^2\\right\\}\\hat{v}'\n",
    "\\end{align}\n",
    "où le symbole $D=\\frac{d}{dy}$ représente la dérivée par rapport à $y$ et $(D^2-\\alpha^2)^{-1}$ est l'inverse de l'opérateur $D^2-\\alpha^2$.\n",
    "\n",
    "De manière compacte, cette équation peut être écrite sous la forme:\n",
    "\n",
    "\\begin{align}\n",
    "\\frac{\\partial}{\\partial t}\\hat{v}'&=L\\hat{v}'\\quad\\quad (*)\n",
    "\\end{align}\n",
    "avec $L$ l'opérateur linéaire suivant:\n",
    "\n",
    "\\begin{align}\n",
    "L=(D^2-\\alpha^2)^{-1}\\left\\{-i\\alpha U(D^2-\\alpha^2)+i\\alpha U''+\\frac{1}{R}(D^2-\\alpha^2)^2\\right\\}\n",
    "\\end{align}"
   ]
  },
  {
   "cell_type": "markdown",
   "metadata": {},
   "source": [
    "Comme l'équation d'évolution de $\\hat{v}'$ est linéaire, il est aussi possible d'introduire un propagateur qui transforme toute condition initiale $\\hat{v}'(0)$ en la solution à l'instant $\\hat{v}'(t)$,\n",
    "\n",
    "\\begin{align}\n",
    "\\hat{v}'(t)=X(t)\\hat{v}'(0)\n",
    "\\end{align}\n",
    "\n",
    "En utilisant l'équation d'évolution de $\\hat{v}'$ on obtient directement l'équation d'évolution du propagateur:\n",
    "\\begin{align}\n",
    "\\frac{\\partial}{\\partial t}X(t)&=L X(t),\\,\\, \\mathrm{avec}\\;  X(0)=I \\quad\\quad (**) \n",
    "\\end{align}\n",
    "où $I$ est l'identité."
   ]
  },
  {
   "cell_type": "markdown",
   "metadata": {},
   "source": [
    "## Analyse de la stabilité\n",
    "\n",
    "Une des questions fondamentales qui se posent est de savoir si l'amplitude d'une perturbation quelconque va croître avec le temps et quelle est la forme optimale d'une perturbation pour déstabiliser l'écoulement. Ces questions peuvent être analysées en mesurant la norme (l'énergie cinétique dans notre cas) de la perturbation verticale au cours du temps:\n",
    "\n",
    "\\begin{align}\n",
    "{\\cal E}(t)=\\frac{1}{4a}\\int_{-1}^{1}\\int_0^a Re(v'(t))^2 dxdy\n",
    "\\end{align}\n",
    "\n",
    "où $a=2\\pi/\\alpha$ et $Re()$ désigne la partie réelle de $v'$. En utilisant la forme des perturbations choisies (modes monochromatiques) on a alors,\n",
    "\n",
    "\\begin{align}\n",
    "{\\cal E}(t)=\\lVert \\hat{v}^{'*}(t) \\lVert^2 =\\frac{1}{8}\\int_{-1}^{1}\\hat{v}^{'*}(t)\\hat{v}^{'}(t)dy\n",
    "\\end{align}\n",
    "où le symbole $^*$ represente le complexe conjugué."
   ]
  },
  {
   "cell_type": "markdown",
   "metadata": {},
   "source": [
    "Dans l'analyse de stabilité dite non-modale, on cherche la perturbation qui maximise l'amplification de la norme choisie. Par exemple, l'amplification maximale $\\Phi_\\alpha$ possible à un instant $t$ pour un nombre $\\alpha$ donnée est définie par:\n",
    "\n",
    "\\begin{align}\n",
    "\\Phi_\\alpha(t)=\\max_{\\hat{v}^{'}(0)}\\frac{\\lVert \\hat{v}^{'}(t)\\lVert}{\\lVert \\hat{v}^{'}(0)\\lVert}=\\max_{\\hat{v}^{'}(0)}\\frac{\\lVert X(t)\\hat{v}^{'}(0)\\lVert}{\\lVert \\hat{v}^{'}(0)\\lVert}= \\lVert X(t)\\lVert \n",
    "\\end{align}\n"
   ]
  },
  {
   "cell_type": "markdown",
   "metadata": {},
   "source": [
    "La dernière égalité résulte de la définition de la norme du propagateur $X(t)$. Lorsque la norme choisie est la norme $L^2$ comme ici, on peut montrer que la norme du propagateur est égale à sa plus grande valeur singulière. La décomposition d'une matrice à partir de ses valeurs singulières est une généralisation de la décomposition en valeurs propres: https://en.wikipedia.org/wiki/Singular_value_decomposition. Afin de déterminer les valeurs singulières d'une matrice, numpy contient une routine dédiée que nous pouvons utiliser ici. Elle prend la forme (voir manuel de numpy):\n",
    "\n",
    "```u,s,vh = numpy.linalg.svd(X)```\n",
    "\n",
    "$s$ est un vecteur dont les composantes correspondent aux valeurs singulières de la matrice $X(t)$. Par ailleurs, $u$ et $v$ sont des matrices dont les colonnes correspondent respectivement aux vecteurs \"de sortie et d'entrée\" de la décomposition (attention, la matrice vh donnée par la routine est la transposée conjuguée de $v$). On a donc les relations:\n",
    "\n",
    "\\begin{align}\n",
    "X\\cdot v[:,i] = s_iu[:,i]\n",
    "\\end{align}\n",
    "\n",
    "où le $\\cdot$ représente la multiplication matricielle et $s_i$ est la $i$-ème valeur singulière."
   ]
  },
  {
   "cell_type": "markdown",
   "metadata": {},
   "source": [
    "## Travail personnel"
   ]
  },
  {
   "cell_type": "markdown",
   "metadata": {},
   "source": [
    "Remarque : Nous n'avons utilisé d'autres ressources que la documentation https://docs.scipy.org/doc/numpy/reference/index.html concernant un certain nombre de fonctions, ainsi que les liens wikipedia fournis dans l'énoncé du travail."
   ]
  },
  {
   "cell_type": "markdown",
   "metadata": {},
   "source": [
    "On commence par importer les modules Python nécessaires :"
   ]
  },
  {
   "cell_type": "code",
   "execution_count": 23,
   "metadata": {},
   "outputs": [],
   "source": [
    "import numpy \n",
    "import scipy\n",
    "from scipy import linalg\n",
    "from matplotlib import pyplot\n",
    "%matplotlib inline"
   ]
  },
  {
   "cell_type": "markdown",
   "metadata": {},
   "source": [
    "Afin de résoudre l'équation (*), on peut introduire une grille 1D comme suit :"
   ]
  },
  {
   "cell_type": "code",
   "execution_count": 24,
   "metadata": {},
   "outputs": [],
   "source": [
    "N=101\n",
    "L=1.0\n",
    "y=numpy.linspace(-L,L,N)\n",
    "dy=2*L/(N-1)"
   ]
  },
  {
   "cell_type": "markdown",
   "metadata": {},
   "source": [
    "**Question 1: (2 points)**\n",
    "\n",
    "Pour $\\hat{v}'$, le problème contient 4 conditions aux bords. Les conditions du type Dirichlet se traduisent par: v[0]=0 et v[N-1]=0.\n",
    "\n",
    "En vous servant du lien, https://en.wikipedia.org/wiki/Finite_difference_coefficient, déterminer comment se traduisent les conditions du type von Neumann $\\frac{\\partial v}{\\partial y}(y=-1)=\\frac{\\partial v}{\\partial y}(y=1)=0$ si on adopte une \"forward finite difference\" du second ordre pour la dérivée première sur le bord $y=-1$ et une \"backward finite difference\" du second ordre pour la dérivée première sur le bord $y=1$."
   ]
  },
  {
   "cell_type": "markdown",
   "metadata": {},
   "source": [
    "**Réponse :**\n",
    "\n",
    "En utilisant le lien ci-dessus pour déterminer les coefficients appropriés, on trouve que $\\frac{\\partial v}{\\partial y}$ se discrétise au second ordre en \"forward finite difference\" selon :\n",
    "\n",
    "\\begin{align}\n",
    "\\frac{\\partial v}{\\partial y} = \\frac{4v[i+1]-v[i+2]-3v[i]}{2\\Delta y}\n",
    "\\end{align}\n",
    "\n",
    "Et en \"backward finite difference\" comme :\n",
    "\n",
    "\\begin{align}\n",
    "\\frac{\\partial v}{\\partial y} = \\frac{3v[i]-4v[i-1]+v[i-2]}{2\\Delta y}\n",
    "\\end{align}\n",
    "\n",
    "Dès lors, les conditions du type Von Neumann définies ci-haut s'écrivent :\n",
    "\n",
    "\n",
    "\\begin{cases}\n",
    "    \\frac{\\partial v}{\\partial y} (y=-1) =  \\frac{4v[1]-v[2]-3v[0]}{2\\Delta y} = 0\\\\\n",
    "    \\frac{\\partial v}{\\partial y} (y= 1) =  \\frac{3v[N-1]-4v[N-2]+v[N-3]}{2\\Delta y} = 0\n",
    "\\end{cases}\n",
    "\n",
    "D'où : \n",
    "\n",
    "\\begin{cases}\n",
    "    4v[1]-v[2]-3v[0]=0 \\\\\n",
    "    3v[N-1] - 4v[N-2] + v[N-3]=0\n",
    "\\end{cases}\n",
    "\n",
    "\n",
    "Or, les conditions du type Dirichlet donnent $v[0]=v[N-1]=0$. Nous obtenons dès lors que :  \n",
    "\n",
    "\n",
    "\\begin{cases}\n",
    "    v[1]=\\frac{v[2]}{4}\\\\\n",
    "    v[N-2]=\\frac{v[N-3]}{4}\n",
    "\\end{cases}\n",
    "\n",
    "\n",
    "Nous avons donc exprimé les 4 valeurs du bord de $v'(y)$ en fonction des N-4 autres. On en déduit que $\\hat{v}'$ ne contient que $N-4$ valeurs indépendantes, ce qui motivera l'étape suivante.\n",
    "\n"
   ]
  },
  {
   "cell_type": "markdown",
   "metadata": {},
   "source": [
    "De la question précédente, on déduit que la discrétisation de $\\hat{v}'$ ne contient que $N-4$ valeurs indépendantes et qu'on peut dès lors définir numériquement:"
   ]
  },
  {
   "cell_type": "code",
   "execution_count": 25,
   "metadata": {},
   "outputs": [],
   "source": [
    "v=numpy.empty(N-4)"
   ]
  },
  {
   "cell_type": "markdown",
   "metadata": {},
   "source": [
    "**Question 2: (3 points)**\n",
    "\n",
    "En tenant compte de votre réponse à la question 1, compléter la routine suivante afin qu'elle retourne une discrétisation de l'opérateur $D^2$ du type \"central finite difference\" valable à l'ordre 2 et qui agit sur les valeurs indépendantes de ${\\hat v}'$."
   ]
  },
  {
   "cell_type": "markdown",
   "metadata": {},
   "source": [
    "**Réponse :**\n",
    "\n",
    "La formule de la dérivée seconde à l'ordre 2 en \"central finite difference\" donne :\n",
    "\n",
    "\\begin{equation}\n",
    "\\frac{\\partial^2 v}{\\partial y^2} = \\frac{v[i-1]-2v[i]+v[i+1]}{\\Delta y^2}\n",
    "\\end{equation}\n",
    "\n",
    "L'opérateur $D^2$ peut donc être représenté par une matrice $N-4$ par $N-4$ agissant sur un vecteur de $N-4$ composantes, qui résulte de la discrétisation de la variable continue $y$ (On remplace un espace de Hilbert par un espace de dimension finie). Cette matrice est à priori de la forme : \n",
    "\n",
    "\\begin{equation}\n",
    "D^2=\n",
    "\\begin{pmatrix}\n",
    "    ?  &  ?  & 0  & 0  &  \\cdots & 0 &0     \\\\\n",
    "   1   &  -2   & 1 & 0  & \\cdots  & 0   &0   \\\\\n",
    "      0& 1   & -2  & 1  & \\cdots  & 0 &0\\\\\n",
    "\\vdots & \\vdots & \\ddots & \\ddots & \\ddots & \\vdots & \\vdots \\\\\n",
    "0  & 0 & \\cdots & 1 & -2 & 1 & 0 \\\\\n",
    "    0  & 0 & \\cdots  & 0 & 1 & -2  & 1 \\\\\n",
    "0      & 0      & \\cdots & 0 & 0 & ? & ? \\\\\n",
    "\\end{pmatrix}\n",
    "\\end{equation}\n",
    "\n",
    "Cependant, et comme l'indique les points d'interrogations sur les premières et dernières lignes de $D^2$, les coefficients des dérivées secondes de $v[2]$ et $v[N-3]$ posent problème puisque la matrice ne peut agir sur $v[1]$ et $v[N-2]$. Cependant, comme ces dernières quantités ne sont pas indépendantes, il suffira d'implémenter les conditions aux bords de Dirichlet et de Von Neumann pour obtenir ces coefficients. On a :\n",
    "\n",
    "\\begin{align}\n",
    "\\frac{\\partial^2 v[2]}{\\partial y^2} &= \\frac{-\\frac{7}{4}v[2]+v[3]}{\\Delta y^4}\\\\\n",
    "\\frac{\\partial^2 v[N-3]}{\\partial y^2} &= \\frac{v[N-4]-\\frac{7}{4}v[N-3]}{\\Delta y^4}\n",
    "\\end{align}\n",
    "\n",
    "La matrice complète est donc \n",
    "\n",
    "\\begin{equation}\n",
    "D^4=\n",
    "\\begin{pmatrix}\n",
    "    -\\frac{7}{4}  &  1  & 0  & 0  &  \\cdots & 0 &0     \\\\\n",
    "   1   &  -2   & 1 & 0  & \\cdots  & 0   &0   \\\\\n",
    "      0& 1   & -2  & 1  & \\cdots  & 0 &0\\\\\n",
    "\\vdots & \\vdots & \\ddots & \\ddots & \\ddots & \\vdots & \\vdots \\\\\n",
    "0  & 0 & \\cdots & 1 & -2 & 1 & 0 \\\\\n",
    "    0  & 0 & \\cdots  & 0 & 1 & -2  & 1 \\\\\n",
    "0      & 0      & \\cdots & 0 & 0 & 1 & -\\frac{7}{4} \\\\\n",
    "\\end{pmatrix}\n",
    "\\end{equation}\n",
    "\n",
    "\n",
    "Implémentons cette matrice dans la cellule ci-dessous."
   ]
  },
  {
   "cell_type": "code",
   "execution_count": 26,
   "metadata": {},
   "outputs": [],
   "source": [
    "# Operator of the second derivative acting on v with respect to y \n",
    "def D2_v(N,dy):\n",
    "    \"\"\"\n",
    "    Définit l'opérateur D2, une matrice N-4 x N-4 qui agit sur les N-4 valeurs\n",
    "    indépendantes de v et rend la discrétisation de sa dérivée seconde sous forme \n",
    "    d'un array de taille N-4.\n",
    "    \n",
    "    paramètres:\n",
    "    N (\"integer\") : le nombre de valeurs dans la grille 1D\n",
    "    dy (\"float\") :  le pas utilisé pour la discrétisation\n",
    "    \n",
    "    retourne:\n",
    "    L'opérateur implicite comme un \"array\" de dimension 2, de taille (N-4)*(N-4) et dont \n",
    "    les éléments sont des \"floats\".\n",
    "    \"\"\"\n",
    "    #On crée la diagonale de 1\n",
    "    D=numpy.diag((-2) * numpy.ones(N-4))\n",
    "    # On implémente les conditions aux bords\n",
    "    D[0,0] = -7/4\n",
    "    D[N-5,N-5]=-7/4\n",
    "    # On ajoute les diagonales supérieures et inférieures\n",
    "    D2_v = (D + numpy.diag(1.0 * numpy.ones(N - 5), k=1) + numpy.diag(1.0 * numpy.ones(N - 5), k=-1))/dy**2\n",
    "    return D2_v"
   ]
  },
  {
   "cell_type": "markdown",
   "metadata": {},
   "source": [
    "**Question 3: (3 points)** \n",
    "\n",
    "Faites de même pour l'opérateur de dérivée 4ème, $D^4 = \\frac{\\partial^4}{\\partial y^4}$ en complétant la routine suivante afin qu'elle retourne une discrétisation de l'opérateur $D^4$ du type \"central finite difference\" valable à l'ordre 2 et qui agit sur les valeurs indépendantes de ${\\hat v}'$."
   ]
  },
  {
   "cell_type": "markdown",
   "metadata": {},
   "source": [
    "**Réponse :**\n",
    "\n",
    "On utilise la formule de la dérivée quatrième à l'ordre 2 en \"central finite difference\".\n",
    "\n",
    "\\begin{equation}\n",
    "\\frac{\\partial^4 v}{\\partial y^4} = \\frac{v[i-2]-4v[i-1]+6v[i]-4v[i+1] +v[i+2]}{\\Delta y^4}\n",
    "\\end{equation}\n",
    "\n",
    "L'opérateur $D^4$ peut être représenté comme une matrice $N-4$ par $N-4$ agissant sur un vecteur de $N-4$ composantes. Cette matrice est de la forme :\n",
    "\n",
    "\\begin{equation}\n",
    "D^4=\n",
    "\\begin{pmatrix}\n",
    "    ? &  ?  & ?  & 0  & 0  &  \\cdots & 0      \\\\\n",
    "   -4  &  6   & -4 & 1  & 0  & \\cdots  & 0      \\\\\n",
    "     1 & -4   & 6  & -4 & 1  & \\cdots  & 0 \\\\\n",
    "\\vdots & \\ddots & \\ddots & \\ddots & \\ddots & \\ddots & \\vdots \\\\\n",
    "0  & 0 & \\cdots & -4 & 6 & -4 & 1 \\\\\n",
    "    0  & 0 & \\cdots  & 1  & -4 & 6  & -4 \\\\\n",
    "0      & 0      & \\cdots & 0 & ? & ? & ? \\\\\n",
    "\\end{pmatrix}\n",
    "\\end{equation}\n",
    "\n",
    "Se pose alors exactement le même problème qu'à la question précédente, que nous résolvons à nouveau en implémentant les conditions aux bords. Nous obtenons : \n",
    "\n",
    "\\begin{align}\n",
    "\\frac{\\partial^4 v[2]}{\\partial y^4} &= \\frac{5v[2]-4v[3] +v[4]}{\\Delta y^4}\\\\\n",
    "\\frac{\\partial^4 v[3]}{\\partial y^4} &= \\frac{-\\frac{15}{4}v[2]+6v[3]-4v[4] +v[5]}{\\Delta y^4}\\\\\n",
    "\\frac{\\partial^4 v[N-4]}{\\partial y^4} &= \\frac{v[N-6]-4v[N-5]+6v[N-4]-\\frac{15}{4}v[N-3]}{\\Delta y^4}\\\\\n",
    "\\frac{\\partial^4 v[N-3]}{\\partial y^4} &= \\frac{v[N-5]-4v[N-4]+5v[N-3]}{\\Delta y^4}\n",
    "\\end{align}\n",
    "\n",
    "La matrice complète s'écrit alors : \n",
    "\n",
    "\\begin{equation}\n",
    "D^4 = \n",
    "\\begin{pmatrix}\n",
    "    5 &  -4  & 1  & 0  & 0  &  \\cdots & 0      \\\\\n",
    "   \\frac{-15}{4}  &  6   & -4 & 1  & 0  & \\cdots  & 0      \\\\\n",
    "     1 & -4   & 6  & -4 & 1  & \\cdots  & 0 \\\\\n",
    "\\vdots & \\ddots & \\ddots & \\ddots & \\ddots & \\ddots & \\vdots \\\\\n",
    "0  & 0 & \\cdots & -4 & 6 & -4 & 1 \\\\\n",
    "    0  & 0 & \\cdots  & 1  & -4 & 6  & -\\frac{15}{4} \\\\\n",
    "0      & 0      & \\cdots & 0 & 1 & -4 & 5 \\\\\n",
    "\\end{pmatrix}\n",
    "\\end{equation}\n",
    "\n",
    "Implémentons cette matrice dans la cellule ci-dessous."
   ]
  },
  {
   "cell_type": "code",
   "execution_count": 27,
   "metadata": {},
   "outputs": [],
   "source": [
    "# Operator of the fourth derivative acting on v with respect to y \n",
    "def D4_v(N,dy):\n",
    "    \"\"\"\n",
    "    Définit l'opérateur D4, une matrice N-4 x N-4 qui agit sur les N-4 valeurs\n",
    "    indépendantes de v et rend la discrétisation de sa dérivée quatrième \n",
    "    sous la forme d'un array de N-4 quantités. \n",
    "    \n",
    "    paramètres:\n",
    "    N (\"integer\") : le nombre de valeurs dans la grille 1D\n",
    "    dy (\"float\") :  le pas utilisé pour la discrétisation\n",
    "    \n",
    "    return:\n",
    "    L'opérateur implicite comme un \"array\" de dimension 2 dont les éléments sont des \"floats\"\n",
    "    et de taille N-4 par N-4\n",
    "    \"\"\"\n",
    "    #On crée la diagonale de 1\n",
    "    D=numpy.diag((6) * numpy.ones(N-4))\n",
    "    # On ajoute les diagonales supérieures et inférieures\n",
    "    D=D+numpy.diag(-4.0 * numpy.ones(N - 5), k=1) + numpy.diag(-4.0 * numpy.ones(N - 5), k=-1) \\\n",
    "    + numpy.diag(1.0 * numpy.ones(N - 6), k=2) + numpy.diag(1.0 * numpy.ones(N - 6), k=-2)\n",
    "    # On implémente les conditions de dirichlet et von neumann\n",
    "    D[0,0] = 5\n",
    "    D[1,0]=-15/4\n",
    "    D[N-5,N-5]=5\n",
    "    D[N-6,N-5]=-15/4\n",
    "    #dénominateur de la formule de D4\n",
    "    D4_v = D/dy**4\n",
    "    return D4_v"
   ]
  },
  {
   "cell_type": "markdown",
   "metadata": {},
   "source": [
    "**Question 4: (4 points)** \n",
    "\n",
    "En vous servant des routines précédantes, créer une routine qui permet de construire l'opérateur $L$. Pour information, un nombre complexe en Python peut être créé simplement en utilisant pour le nombre imaginaire $i$ le symbole 1j. Par exemple, le nombre $3+2i$ s'écrira ``` 3+2*1j ```."
   ]
  },
  {
   "cell_type": "markdown",
   "metadata": {},
   "source": [
    "**Réponse :**\n",
    "\n",
    "Rappelons que\n",
    "\n",
    "\\begin{align}\n",
    "L=(D^2-\\alpha^2)^{-1}\\left\\{-i\\alpha U(D^2-\\alpha^2)+i\\alpha U''+\\frac{1}{R}(D^2-\\alpha^2)^2\\right\\}\n",
    "\\end{align}\n",
    "\n",
    "On peut réécrire la partie entre crochets en fonction de $D^2$ et $D^4$ que l'on a calculés plus haut. En particulier $U, U''$ peuvent etre réécrits à partir de la formule $U(y)=(1-y^2)$.\n",
    "\n",
    "\\begin{align}\n",
    "&\\left\\{-i\\alpha U(D^2-\\alpha^2)+i\\alpha U''+\\frac{1}{R}(D^2-\\alpha^2)^2\\right\\} \\\\ \n",
    "=& -i\\alpha U(D^2 - \\alpha^2) -2i \\alpha  + \\frac{1}{R}(D^4 + U''\\alpha^2 D^2 +\\alpha^4)\n",
    "\\end{align}\n",
    "\n",
    "Nous pouvons implémenter cette partie sans problème puisqu'on a déjà défini $D^2$, $D^4$ et que le membre $\\alpha^2$ est tout simplement une matrice $(N-4)(N-4)$ dont la diagonale est remplie de $\\alpha^2$.\n",
    "\n",
    "\\begin{equation}\n",
    "A := \\alpha^2 \\cdot \n",
    "\\begin{pmatrix}\n",
    "    1  &  0     & \\cdots & 0      \\\\\n",
    "    0  &  1     & \\cdots & 0      \\\\\n",
    "\\vdots & \\vdots & \\ddots & \\vdots \\\\\n",
    "0      & 0      & \\cdots & 1\n",
    "\\end{pmatrix} =\n",
    "\\begin{pmatrix}\n",
    "\\alpha^2 & 0 & \\cdots & 0 \\\\\n",
    "0 & \\alpha^2 & \\cdots & 0 \\\\\n",
    "\\vdots  & \\vdots  & \\ddots & \\vdots  \\\\\n",
    "0 & 0 & \\cdots & \\alpha^2 \n",
    "\\end{pmatrix}\n",
    "\\end{equation}\n",
    "\n",
    "De plus, $U$ est représenté par la matrice qui satisfait : \n",
    "\n",
    "\\begin{equation}\n",
    "U \\cdot \n",
    "\\begin{pmatrix}\n",
    "    v_2  \\\\\n",
    "    v_3   \\\\\n",
    "    \\vdots \\\\\n",
    "     v_{N-3}\n",
    "\\end{pmatrix} =\n",
    "\\begin{pmatrix}\n",
    "   U(y_2)v_2  \\\\\n",
    "   U(y_3)v_3   \\\\\n",
    "    \\vdots \\\\\n",
    "     U(y_{N-3})v_{N-3}\n",
    "\\end{pmatrix}\n",
    "\\end{equation}\n",
    "\n",
    "$U$ doit donc être une matrice dont chaque élément est nul sauf les éléments de la diagonale qui sont donnés par $U[i,i]=1-y_i^2.$\n",
    "\n",
    "\\begin{equation}\n",
    "U :=\n",
    "\\begin{pmatrix}\n",
    "    1-y_2^2  &  0     & \\cdots & 0      \\\\\n",
    "    0  &  1 -y_3^2   & \\cdots & 0      \\\\\n",
    "\\vdots & \\vdots & \\ddots & \\vdots \\\\\n",
    "0      & 0      & \\cdots & 1-y_{N-3}^2\n",
    "\\end{pmatrix}\n",
    "\\end{equation}\n",
    "\n",
    "Quand à $U''$, elle est donnée en dérivant chaque élément de la diagonale de $U$. On obtiens alors $U''=Diag(-2,-2,...,-2)$.\n",
    "\n",
    "La dernière question qui se pose est comment nous pouvons traiter $(D^2-\\alpha^2)^{-1}$ ? Comme nous avons obtenu une forme matricielle pour $(D^2-\\alpha^2)$, il suffira d'inverser cette matrice en utilisant une fonction numpy.\n",
    "\n",
    "Implémentons $L$ dans la cellule ci-dessous. La matrice correspondant à l'opérateur entre crochet consiste simplement en la sommation de matrices multipliées par des nombres complexes. De plus, $D^2$ et $D^4$ sont déjà définies. Nous aurons à construire l'opérateur alpha ainsi que l'opérateur U puis à multiplier  la matrice obtenue par l'inverse de $D^2-\\alpha^2$.\n",
    "    "
   ]
  },
  {
   "cell_type": "code",
   "execution_count": 28,
   "metadata": {},
   "outputs": [],
   "source": [
    "# Operateur L\n",
    "def L_v(N,y,dy,R,alpha):\n",
    "    \"\"\"\n",
    "    Définit l'opérateur L, une matrice N-4 x N-4 qui agira sur les N-4 valeurs\n",
    "    indépendantes de v et rendra la discrétisation de l'opérateur appliqué à v sous la forme de\n",
    "    N-4 valeurs. \n",
    "    \n",
    "    paramètres:\n",
    "    N (\"integer\") : le nombre de valeurs dans la grille 1D\n",
    "    y (\"array\") : liste de nombres réels correspondant à la discrétisation de l'axe y\n",
    "    dy (\"float\") :  le pas utilisé pour la discrétisation\n",
    "    R (\"float\") : nombre de Reynolds\n",
    "    alpha (\"float\") : mode de la perturbation\n",
    "    \n",
    "    return:\n",
    "    L'opérateur implicite comme un \"array\" de dimension 2, de taille N-4 par N-4 et\n",
    "    dont les éléments sont des \"floats\".\n",
    "    \"\"\"\n",
    "    #On calcule les opérateurs D2 et D4\n",
    "    D2=D2_v(N,dy)\n",
    "    D4=D4_v(N,dy)\n",
    "    #On définit l'opérateur alpha^2 qu'on notera A\n",
    "    A=numpy.diag((alpha**2) * numpy.ones(N-4))\n",
    "    #On définit l'opérateur U et sa dérivée seconde Udd\n",
    "    U=numpy.diag((1) * numpy.ones(N-4))\n",
    "    for n in range(N-4):\n",
    "        U[n,n]=1-y[n+2]**2\n",
    "    Udd = numpy.diag((-2) * numpy.ones(N-4)) \n",
    "    # On implémente l'opérateur entre crochets qu'on appelera Crochet\n",
    "    Crochet = -1j*alpha*numpy.matmul(U,D2-A)+1j*alpha*Udd+1/R*(D4-2*alpha**2*D2+numpy.matmul(A,A))\n",
    "    #On fait agir (D2-A)^(-1) sur Crochet\n",
    "    op_inverse=numpy.linalg.inv(D2-A)\n",
    "    L_v=numpy.matmul(op_inverse, Crochet)\n",
    "    return L_v"
   ]
  },
  {
   "cell_type": "markdown",
   "metadata": {},
   "source": [
    "**Question 5: (2 points)** \n",
    "\n",
    "En utilisant un algortihme RK4 dans le temps (https://en.wikipedia.org/wiki/Runge–Kutta_methods#The_Runge–Kutta_method) et un pas de temps de $dt=0.01$, calculer la valeur de ${\\hat v}'$ en $y=0.5$ pour un temps final de $10s$ à partir de la condition initiale suivante,\n",
    "\n",
    "\\begin{align}\n",
    "{\\hat v}'(y) = 0.02*(1+cos(\\pi y))\n",
    "\\end{align}\n",
    "\n",
    "On choisit commme paramêtres, $R=500$ et $\\alpha=0.3$.\n",
    "\n",
    "*Solution: ${\\hat v}'(0.5)=0.00772852-0.01239437i$.*"
   ]
  },
  {
   "cell_type": "markdown",
   "metadata": {},
   "source": [
    "**Réponse** : La fonction $\\hat{v}'$ dépend à la fois des variables $t$ et $y$ et l'équation d'évolution à laquelle elle satisfait peut, en principe, faire intervenir ces deux variables. Cependant, il se trouve que le système ne fait pas intervenir de dérivée par rapport à la variable $y$, et que celle-ci n'est présente que dans l'expression de l'opérateur L.\n",
    "\n",
    "Dès lors, si on fixe cette dernière, on peut traiter l'équation comme une EDO. On a : \n",
    "\n",
    "\\begin{align}\n",
    "\\frac{\\partial}{\\partial t}\\hat{v}'&=L\\hat{v}'\\quad\\quad (*)\n",
    "\\end{align}\n",
    "\n",
    "Pour cette question, nous commencerons par fixer les valeurs des paramètres. Ensuite, nous définirons la condition initiale du problème avant de construire une fonction qui permet d'exécuter l'algorithme de Runge-Kunta d'ordre 4. Enfin, nous calculerons la valeur numérique de la solution au point indiqué.\n",
    "\n",
    "Rappelons le principe de la méthode de Runge-Kunta. Etant donné un problème de Cauchy de la forme : \n",
    "\n",
    "\\begin{cases}\n",
    "u'(t)=f(t,u(t)) \\\\\n",
    "u(t_0)=u_0\n",
    "\\end{cases}\n",
    "\n",
    "Où $u:\\mathbb{R}^{n}\\rightarrow \\mathbb{R}^{n}$, on part du principe de la méthode d'Euler, qui consiste à itérer l'opération suivante : \n",
    "\n",
    "\\begin{equation}\n",
    "u_{i+1}=u_{i}+f(t_i, u_i) \n",
    "\\end{equation}\n",
    "\n",
    "On calcule cependant plusieurs pentes, en évaluant la fonction en un point intermédiaire à $y_i$ et $y_{i+1}$. A l'ordre 4, on écrira : \n",
    "\n",
    "\\begin{cases}\n",
    "k_1=f(t_i,u_i) \\\\\n",
    "k_2=f(t_i+\\frac{dt}{2},u_i+\\frac{k_1\\cdot dt}{2}) \\\\\n",
    "k_3=f(t_i+\\frac{dt}{2},u_i+\\frac{k_2\\cdot dt}{2})\\\\\n",
    "k_4=f(t_i+dt,u_i+k_3\\cdot t)\n",
    "\\end{cases}\n",
    "\n",
    "Et : \n",
    "\n",
    "\\begin{equation}\n",
    "u_{i+1}=u_i+\\frac{dt}{6}\\cdot(k_1+2k_2+2k_3+k_4)\n",
    "\\end{equation}\n",
    "\n",
    "En itérant, on trouve la valeur de la fonction au temps souhaité.\n",
    "\n",
    "Dans notre problème,\n",
    "\n",
    "\\begin{equation}\n",
    "f(t_i,u_i)=L\\cdot u_i\n",
    "\\end{equation}\n",
    "\n",
    "Remarques : \n",
    "\n",
    "-Observez que nous sélectionnerons la valeur de $v$ au point d'indice $n-2$ et non $n$ : cela vient du fait que $v$ contient $N$ éléments, tandis que $y$ en contient $N-4$, ce dont nous devons tenir compte pour l'indexation.\n",
    "\n",
    "-La condition while (t-s>dt) peut sembler un peu étrange, mais elle traduit simplement le fait que la boucle doit continuer jusqu'à ce qu'on obtiene la solution au temps. Initialement, nous avions écrit while (s<t) mais l'expérience a montré que la propagation des erreurs numériques sur la valeur de s (de l'ordre de 10^{-9}) entraîne une itération supplémentaire.\n",
    "\n",
    "-A priori, on pourrait penser que nous effectuons, avec cette méthode, nombre de calculs inutiles puisque nous cherchons la valeur de la fonction en un point $y_{n-2}$ particulier. Cependant, il est clair que le produit matriciel que nous effectuons à chaque étape pour déterminer $(u_i)_{n-2}$ fait intervenir la valeur de $u_i$ en tout point. Dès lors, il est nécéssaire d'actualiser celle-ci, dans son entièreté, au fur et à mesure des itérations : ces calculs sont donc indispensables.\n",
    "\n",
    "Implémentons à présent cet algorithme."
   ]
  },
  {
   "cell_type": "code",
   "execution_count": 29,
   "metadata": {},
   "outputs": [],
   "source": [
    "#On commence par fixer les valeurs des paramètres\n",
    "R=500 #Nombre de Reynolds\n",
    "alpha=0.3 #Mode \n",
    "n=int((0.5+1)/dy) #indice du point auquel on cherche à obtenir la solution \n",
    "                  #le +1 provient du fait que y commence à -1\n",
    "dt=0.1 #timestep\n",
    "t=10 #temps auquel on calcule la solution"
   ]
  },
  {
   "cell_type": "code",
   "execution_count": 30,
   "metadata": {},
   "outputs": [],
   "source": [
    "#Condition initiale\n",
    "y2=y[2:-2] #On se restreint aux N-4 valeurs indépendantes de y\n",
    "v0=numpy.array([ 0.02*(1+numpy.cos(numpy.pi*z)) for z in y[2:-2] ])"
   ]
  },
  {
   "cell_type": "code",
   "execution_count": 31,
   "metadata": {},
   "outputs": [],
   "source": [
    "def RK4(v0,t,dt,*args): \n",
    "    \"\"\"\n",
    "    Calcule la solution du problème \\hat{v}' (\"float\") au temps t pour une valeur donnée de y.\n",
    "    ---------\n",
    "    Paramètres:\n",
    "    \n",
    "    v0 (\"array de dimension 1 ou 2 (voir question 6)\") : condition initiale pour la fonction v\n",
    "    t(\"float\") : Instant auquel on cherche la solution\n",
    "    dt(\"float\") : Valeur du time step \n",
    "    Args : Arguments à passer à l'opérateur L (Voir question 4)\n",
    "    \n",
    "    Retourne : \n",
    "    La valeur de la solution en tout point y, à l'instant t, sous forme d'un array\n",
    "    \"\"\"\n",
    "    L=L_v(*args) #On calcule L\n",
    "    v=v0.copy() \n",
    "    s=0\n",
    "    while t-s>dt:\n",
    "        #Calcul des pentes\n",
    "        p1=numpy.matmul(L,v)    \n",
    "        p2=numpy.matmul(L,v+p1*(dt/2)) \n",
    "        p3=numpy.matmul(L,v+p2*(dt/2))\n",
    "        p4=numpy.matmul(L,v+p3*dt)\n",
    "        #On avance dans le temps en actualisant la solution\n",
    "        v=v+(dt/6)*(p1+2*p2+2*p3+p4)\n",
    "        s=s+dt\n",
    "    answer=v #On sélectionne\n",
    "    return answer"
   ]
  },
  {
   "cell_type": "code",
   "execution_count": 32,
   "metadata": {
    "scrolled": true
   },
   "outputs": [
    {
     "name": "stdout",
     "output_type": "stream",
     "text": [
      "La solution au problème est donc :  (0.00772852-0.01239437j)\n"
     ]
    }
   ],
   "source": [
    "#Calcul de la valeur explicite\n",
    "sol1=round(RK4(v0,t,dt,N,y,dy,R,alpha)[n-2],8) #On arrondit à 8 décimales, i.e. la précision souhaitée\n",
    "print('La solution au problème est donc : ',sol1)"
   ]
  },
  {
   "cell_type": "markdown",
   "metadata": {},
   "source": [
    "**Question 6: (1 point)** \n",
    "\n",
    "A partir de l'équation (**), calculer le propagateur $X$ à l'instant $t=10$ pour les mêmes valeurs des paramètres que précédemment: $R=500$ et $\\alpha=0.3$. Utiliser à nouveau un algorithme RK4 dans le temps et un pas de temps $dt=0.01$."
   ]
  },
  {
   "cell_type": "markdown",
   "metadata": {},
   "source": [
    "**Réponse:**\n",
    "Le propagateur est un opérateur, qui peut se représenter sous forme de matrice, défini par le problème de Cauchy suivant :\n",
    "\n",
    "\\begin{cases}\n",
    "\\frac{\\partial}{\\partial t}X(t)=LX(t)\\\\\n",
    "X(0)=I\n",
    "\\end{cases}\n",
    "\n",
    "Si $X(t)$ dépend en principe de $y$, il n'y a pas de dérivée prise par rapport à cette variable dans l'équation. Dès lors, on peut la traiter comme une EDO dans un espace de matrices. Nous allons résoudre cette équation numériquement, en utilisant comme précédemment un algorithme RK4. Observons que, comme le système est autonome, i.e. $L$ ne dépend pas du temps, il y a une autre façon simple et exacte de constuire l'opérateur $X$ : \n",
    "\n",
    "\\begin{equation}\n",
    "X(t)=exp(L\\cdot t)\n",
    "\\end{equation}\n",
    "\n",
    "Cette méthode pourra éventuellement être employée pour vérifier nos résultats. Comment procéder pour implémenter RK4 ? Pour le comprendre, réecrivons l'équation $(**)$ en composantes, en employant la convention d'Einstein sur la sommation des indices répétés. On a :\n",
    "\n",
    "\\begin{equation}\n",
    "\\frac{\\partial}{\\partial t}X_{ij}(t)=L_{ik}X_{kj}(t)\n",
    "\\end{equation}\n",
    "\n",
    "C'est-à-dire $n$ systèmes de n équations différentielles linéaires couplées... Observons cependant qu'en considérent maintenant les colonnes de la matrice représentant le propagateur (dans la base dans laquelle nous travaillons) comme des vecteurs $(V_j)_{i}:=V_{ij}$, on peut écrire : \n",
    "\n",
    "\n",
    "\\begin{equation}\n",
    "\\frac{\\partial}{\\partial t}V_{j}(t)=L\\cdot V_{j}(t)\n",
    "\\end{equation}\n",
    "\n",
    "Et la condition initiale devient : \n",
    "\n",
    "\\begin{equation}\n",
    "(V_{j})_k=\\delta_{jk}\n",
    "\\end{equation}\n",
    "\n",
    "Où $\\delta$ est le symbole de Cronecker. On pourrait ainsi résoudre le problème en appliquant l'algorithme précédent  sur chaque colonne, puis en les recollant les unes aux autres. Nous allons plutôt essayer de travailler directement avec la matrice, pour obtenir un code plus esthétique et efficace. On sait que, pour calculer la $k^{ème}$ pente, on devra évaluer : \n",
    "\n",
    "\\begin{equation}\n",
    "L\\cdot (V_j+p_{k-1}^j)\\cdot dt(/2)\n",
    "\\end{equation}\n",
    "\n",
    "Mais $L\\cdot X$ correspond précisément aux vecteurs colonnes $L\\cdot V_j$ juxtaposés. Dès lors, définissant\n",
    "\n",
    "\\begin{equation}\n",
    "p_1=L\\cdot X\n",
    "\\end{equation}\n",
    "\n",
    "\\begin{equation}\n",
    "p_2=L\\cdot (X+p_1\\cdot \\frac{dt}{2})\n",
    "\\end{equation}\n",
    "\n",
    "Et ainsi de suite. Nous allons donc pouvoir recycler l'algorithme que nous avions défini à la question précédente, puisque rien ne change si ce n'est la dimension de la condition initiale $v_0/X_0$."
   ]
  },
  {
   "cell_type": "code",
   "execution_count": 33,
   "metadata": {},
   "outputs": [],
   "source": [
    "#On commence par définir nos conditions initiales\n",
    "X0=numpy.identity(N-4)\n",
    "#On calcule la solution en utilisant l'algorithme précédent\n",
    "X=RK4(X0,t,dt,N,y,dy,R,alpha)\n",
    "#print(X)"
   ]
  },
  {
   "cell_type": "markdown",
   "metadata": {},
   "source": [
    "**Question 7: (1 point)** \n",
    "\n",
    "Vérifier que le propagateur transforme bien la condition initiale de la question 5 en la solution que vous avez obtenue."
   ]
  },
  {
   "cell_type": "markdown",
   "metadata": {},
   "source": [
    "**Réponse** : Il s'agit de vérifier que : \n",
    "\n",
    "\\begin{equation}\n",
    "\\hat{v}'(t)=X(t)\\cdot \\hat{v}'(0)\n",
    "\\end{equation}\n",
    "\n",
    "Ayant discrétisé notre espace (c'est-à-dire réduit à un espace de dimension finie l'espace de Hilbert des fonctions suffisamment régulières), nous avons obtenu une expression matricielle pour $X(t)$. Dès lors, il suffira  de sélectionner la $(n-2)^{ème}$ valeur obtenue pour $v(t)$ pour vérifier notre réponse précédente."
   ]
  },
  {
   "cell_type": "code",
   "execution_count": 34,
   "metadata": {},
   "outputs": [
    {
     "name": "stdout",
     "output_type": "stream",
     "text": [
      "Les solutions concordent !\n"
     ]
    }
   ],
   "source": [
    "v=numpy.matmul(X,v0) \n",
    "sol2=round(v[n-2],8) #On arrondit à 8 décimales, i.e. la précision souhaitée\n",
    "#print(\"La solution est donnée par\",sol2)\n",
    "#On vérifie que les deux solutions concordent\n",
    "if sol1==sol2:\n",
    "    print('Les solutions concordent !')\n",
    "else : \n",
    "    print('NON!')"
   ]
  },
  {
   "cell_type": "markdown",
   "metadata": {},
   "source": [
    "**Question 8: (2 points)** \n",
    "\n",
    "En utilisant la fonction disponible dans numpy, effectuer la décomposition singulière du propagateur obtenu à la question 7 et calculer la plus grande des valeurs sigulières. Faire un graphique de la perturbation optimale correspondante (elle correspond au vecteur d'entrée associé à cette plus grande valeur singulière).\n",
    "\n",
    "*Solution: s=3.3042383*"
   ]
  },
  {
   "cell_type": "markdown",
   "metadata": {},
   "source": [
    "**Réponse:**\n",
    "\n",
    "La décomposition singulière du propagateur $X$ nous donne les matrices u et v, dont les colonnes donnent les vecteurs de sortie et d'entrée pour les valeurs singulières $s$ de $X$.\n",
    "\n",
    "\\begin{align}\n",
    "X\\cdot v[:,i] = s_iu[:,i]\n",
    "\\end{align}\n",
    "\n",
    "Nous pouvons d'abbord déterminer la plus grande valeure singulière à l'aide d'une fonction numpy. Ensuite, nous devons isoler le vecteur d'entrée associé à cette valeure singulière maximale. Pour cela nous prenons la matrice v en calculant l'hermitien conjugué de la matrice vh rendue par la fonction \"svd\". Nous isolons alors la colonne de v correspondant à la valeure singulière maximale.\n",
    "\n",
    "Les composantes du vecteur d'entrée sont complexes. Pour en faire un graphique nous devrons donc séparer les parties réelles et imaginaires de nos valeurs pour tracer deux courbes le graphique.\n",
    "\n",
    "La dernière étape à franchir pour pouvoir dessiner nos deux courbes et de compléter notre vecteur $v$ de ses quatre valeurs manquantes. En effet, tous nos calculs précédents on été faits sur les valeurs indépendantes des vecteurs $v$. Nous pouvons maintenant rajouter ses valeurs aux bords en utilisant les conditions de Dirichlet et Von Neumann calculées au premier exercice. Cela fait 8 valeurs à ajouter : $Re(v[0])$, $Re(v[1])$, $Re(v[N-2])$ et $Re(v[N-1])$ et les  quatre valeurs imaginaires associées.\n",
    "\n"
   ]
  },
  {
   "cell_type": "code",
   "execution_count": 39,
   "metadata": {},
   "outputs": [
    {
     "name": "stdout",
     "output_type": "stream",
     "text": [
      "La valeure singulière maximale est  3.3042383\n"
     ]
    },
    {
     "data": {
      "image/png": "[encoded data removed]",
      "text/plain": [
       "<Figure size 432x288 with 1 Axes>"
      ]
     },
     "metadata": {
      "needs_background": "light"
     },
     "output_type": "display_data"
    }
   ],
   "source": [
    "#On crée une fonction qui détermine la plus grande des valeurs singulières et\n",
    "#la perturbation optimale associée à cette valeur. O s'en resservira au prochain exercice.\n",
    "def optimal_perturb(X):\n",
    "    '''\n",
    "    Calcule la valeur singulière maximale et la perturbation optimale.\n",
    "    \n",
    "    arguments:\n",
    "    X (\"ndarray\") : tableau de dimension 2, propagateur\n",
    "    \n",
    "    retourne:\n",
    "    max_s (\"float\") : valeure réelle, valeur singulière maximale du propagateur\n",
    "    v_entry (\"ndarray\") : discrétisation de la perturbation optimale\n",
    "    '''\n",
    "    u , s , vh = numpy.linalg.svd(X) \n",
    "    max_s=numpy.amax(s)  #valeure maximale du tableau des valeurs singulières\n",
    "    arg=numpy.argmax(s)  #indice de la valeure maximale\n",
    "    v=numpy.matrix.getH(vh)  #on prend le conjugué hermitien de vh pour obtenir v\n",
    "    v_entry = v[:,arg]   #On sélectionne la colonne correspondant à max_s\n",
    "    return(max_s,v_entry)\n",
    "\n",
    "max_s , v_entry = optimal_perturb(X)\n",
    "print('La valeure singulière maximale est ',round(max_s,7))\n",
    "#on sépare les parties réelles et imaginaires\n",
    "realv=numpy.real(v_entry)   \n",
    "imv=numpy.imag(v_entry)\n",
    "#On ajoute aux N-4 valeurs indépendantes de v les 4 valeurs de bord\n",
    "vtotR=numpy.insert(realv,N-4,[realv[N-5]/4,0])  \n",
    "vtotR=numpy.insert(vtotR,0,[0,realv[2]/4])\n",
    "vtotI=numpy.insert(imv,N-4,[imv[N-5]/4,0])\n",
    "vtotI=numpy.insert(vtotI,0,[0,imv[2]/4])\n",
    "#Esquissons le graphique de la perturbation optimale \n",
    "pyplot.figure(figsize=(6.0, 4.0))  #dimensions du graphe\n",
    "#on définit les axes\n",
    "pyplot.xlabel(' position y')  \n",
    "pyplot.ylabel('perturbation v')\n",
    "pyplot.grid() # On crée une grille en arrière plan\n",
    "pyplot.plot(y, vtotR, label='Partie réelle', color='C0', linestyle='-', linewidth=2)  #graphe pour la partie réelle\n",
    "pyplot.plot(y, vtotI, label='Partie imaginaire',color='C1', linestyle='-', linewidth=2)  #graphe pour la partie imaginaire\n",
    "pyplot.legend();  # On ajoute une légende\n",
    "pyplot.xlim(-L,L)  #on pose les limites des axes\n",
    "pyplot.ylim(-0.2,0.4);"
   ]
  },
  {
   "cell_type": "markdown",
   "metadata": {},
   "source": [
    "**Question 9: (2 points)** \n",
    "\n",
    "En faisant varier $\\alpha$ comme paramètre dans le propagateur, écrire un programme qui permet de déterminer la valeur de $\\alpha$ qui maximise l'amplification des perturbations à l'instant $t=10$ (toujours avec $R=500$) et en utilisant la même résolution et méthode numérique que précédemment. Faire un graphique de $s$ en fonction de $k$."
   ]
  },
  {
   "cell_type": "markdown",
   "metadata": {},
   "source": [
    "**Réponse** : Comme expliqué dans l'introduction théorique et rappelé à la question précédente, la valeur de l'amplification $\\phi_{\\alpha}$ est donnée par la valeur singulière maximale du propagateur $X_{\\alpha}$. Dès lors, dans ce programme, nous définirons d'abord une fonction qui emploie les algorithmes définis aux questions 6 et 8 afin de définir une fonction qui calcule l'amplification en fonction de $\\alpha$. Ensuite, nous ferons un graphique de cette fonction en discrétisant le paramètre $\\alpha$ par step de $0.1$. Ceci nous permettra d'obtenir le comportement général de la fonction, à partir duquel nous maximiserons $\\phi(\\alpha)$ avec un algorithme que nous avons écrit. Nous aurions pu utiliser des algorithmes de scipy.optimize mais il s'est avéré que les seuls algorithmes que nous avons trouvé permettant d'obtenir une bonne précision nécéssitaient le calcul du gradient de la fonction qui, lorsqu'il était suffisamment précis, était très coûteux en temps d'exécution."
   ]
  },
  {
   "cell_type": "code",
   "execution_count": 121,
   "metadata": {},
   "outputs": [],
   "source": [
    "def ampli(alpha):\n",
    "    Y=RK4(X0,t,dt,N,y,dy,R,alpha)\n",
    "    phi=optimal_perturb(Y)[0] #On sélectionne la valeur singulière plutôt que le vecteur d'entrée\n",
    "    return phi"
   ]
  },
  {
   "cell_type": "code",
   "execution_count": 124,
   "metadata": {},
   "outputs": [],
   "source": [
    "#Le temps d'exécution de cette cellule est d'environ 15 secondes\n",
    "x=numpy.linspace(-10,10,200) #On discrétise un intervalle [-10,10]\n",
    "z=[ampli(u) for u in x] #On calcule l'amplification pour chaque valeur de $\\alpha$ dans cet intervalle."
   ]
  },
  {
   "cell_type": "code",
   "execution_count": 123,
   "metadata": {},
   "outputs": [
    {
     "data": {
      "image/png": "[encoded data removed]",
      "text/plain": [
       "<Figure size 648x288 with 1 Axes>"
      ]
     },
     "metadata": {
      "needs_background": "light"
     },
     "output_type": "display_data"
    }
   ],
   "source": [
    "pyplot.figure(figsize=(9.0, 4.0)) #Taille du graphe\n",
    "pyplot.title('Plot of amplification as a function of alpha') #Titre\n",
    "#Axes\n",
    "pyplot.xlabel('alpha') \n",
    "pyplot.ylabel('Amplification Phi')\n",
    "#Grille\n",
    "pyplot.grid()\n",
    "pyplot.plot(x, z, color='C0', linestyle='-', linewidth=2);"
   ]
  },
  {
   "cell_type": "markdown",
   "metadata": {},
   "source": [
    "Nous observons donc que la fonction est pair, atteint un pic vers $1,5$ et décroît très rapidement après, semblant tendre vers $0$ asymptotiquement. Nous allons à présent chercher une valeur précise de son maximum, pour un paramètre de précision $\\epsilon$ que nous avons pris à $10^{-8}$. \n",
    "\n",
    "L'idée du programme est simplement de calculer l'amplification en fonction de $\\alpha$ sur l'ensemble des points d'un intervalle discrétisé, puis d'affiner cet intervalle au fur et à mesure autour du point maximal trouvé, de façon à obtenir une valeur de plus en plus précise du maximant à chaque itération. Le programme s'arrête lorsque la différence entre deux résultats successifs devient inférieur à $\\epsilon$, puisque toute amélioration de la valeur obtenue n'est plus significative au vue de la précision des données en présence."
   ]
  },
  {
   "cell_type": "code",
   "execution_count": 125,
   "metadata": {},
   "outputs": [
    {
     "name": "stdout",
     "output_type": "stream",
     "text": [
      "La valeur du paramètre alpha qui maximise l'amplification est:  1.5515917\n"
     ]
    }
   ],
   "source": [
    "epsilon=0.00000001 #précision\n",
    "h=1 #intial half-size of the interval\n",
    "#liste des maxima les plus récents; \n",
    "Max=[0,1.5] #0 choisi arbitrairement pour satsifaire la condition, 1.5 = initial guess\n",
    "k=0 #Indice d'itération\n",
    "while numpy.absolute(Max[k+1]-Max[k])>epsilon:\n",
    "    B=Max[k+1] \n",
    "    #Intervalle de largeur 2*h autour du dernier max obtenu; \n",
    "    x=numpy.linspace(B-h,B+h,20) #nombre de points: 2h/h' où h'=0.1*h affine l'intervalle après chaque itération\n",
    "    z=[ampli(u) for u in x] #Calcule de l'amplification pour tout alpha\n",
    "    ind=numpy.argmax(z) #indice du max de l'amplification\n",
    "    Max.append(x[ind]) #On rajoute le dernier maximant obtenu à la liste des Max \n",
    "    h=0.1*h #h'=0.1*h\n",
    "    k=k+1 \n",
    "print(\"La valeur du paramètre alpha qui maximise l'amplification est: \", round(Max[-1],7))"
   ]
  }
 ],
 "metadata": {
  "kernelspec": {
   "display_name": "Python 3",
   "language": "python",
   "name": "python3"
  },
  "language_info": {
   "codemirror_mode": {
    "name": "ipython",
    "version": 3
   },
   "file_extension": ".py",
   "mimetype": "text/x-python",
   "name": "python",
   "nbconvert_exporter": "python",
   "pygments_lexer": "ipython3",
   "version": "3.7.1"
  }
 },
 "nbformat": 4,
 "nbformat_minor": 2
}
